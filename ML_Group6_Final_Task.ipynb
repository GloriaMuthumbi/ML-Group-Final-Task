{
  "nbformat": 4,
  "nbformat_minor": 0,
  "metadata": {
    "colab": {
      "name": "ML Group Final Task.ipynb",
      "provenance": [],
      "collapsed_sections": []
    },
    "kernelspec": {
      "name": "python3",
      "display_name": "Python 3"
    },
    "language_info": {
      "name": "python"
    }
  },
  "cells": [
    {
      "cell_type": "markdown",
      "metadata": {
        "id": "TpRb6BlW5lhA"
      },
      "source": [
        "# **ICS 4102: ML Group Final Task**\n",
        "---\n",
        "#### Group Members (ICS 4B): \n",
        "1.   Young Israel Izere - 113000\n",
        "2.   Aganze Mwaza Eric - 112172\n",
        "3.   Jeffrey King’ori - 103673\n",
        "4.   Gloria Muthumbi - 110596\n",
        "---\n",
        "#### Task: **Twitter Sentiment Analysis** \n",
        "> A sentiment analyzer which identifies tweets sentiments: either positive or negative (*binary classification*).\n",
        "---\n",
        "**Dataset source:** http://cs.stanford.edu/people/alecmgo/trainingandtestdata.zip "
      ]
    },
    {
      "cell_type": "markdown",
      "metadata": {
        "id": "BWva_pegppVa"
      },
      "source": [
        "By developing a neural network using TensorFlow, a sentimental analyzer was built to overcome the obstacles of identifying the text sentiments (positive, negative) in Twitter tweets.\n",
        "\n",
        "**Rationale**: Sentiment analysis divides emotions into positive and negative categories. Sentimental analysis is critical because we can learn about people's emotions on specific topics by looking at their tweets."
      ]
    },
    {
      "cell_type": "markdown",
      "metadata": {
        "id": "A1XS5ZuBecxr"
      },
      "source": [
        "# Importing Libraries and Loading Dataset"
      ]
    },
    {
      "cell_type": "markdown",
      "metadata": {
        "id": "WRL8QRySeokm"
      },
      "source": [
        "**Importing the libraries**"
      ]
    },
    {
      "cell_type": "code",
      "metadata": {
        "id": "xtubtpFjYMKk"
      },
      "source": [
        "import numpy as np \n",
        "import pandas as pd \n",
        "import seaborn as sns \n",
        "import matplotlib.pyplot as plt\n",
        "plt.style.use('ggplot')\n",
        "from sklearn.metrics import roc_curve, auc\n",
        "from sklearn.metrics import classification_report, confusion_matrix\n",
        "import nltk\n",
        "from nltk.corpus import stopwords\n",
        "from nltk.stem import PorterStemmer\n",
        "from nltk.stem import WordNetLemmatizer\n",
        "from sklearn.model_selection import train_test_split\n",
        "from mlxtend.plotting import plot_confusion_matrix\n",
        "import matplotlib.cm as cm\n",
        "from matplotlib import rcParams\n",
        "from collections import Counter\n",
        "from nltk.tokenize import RegexpTokenizer\n",
        "import re\n",
        "import string\n",
        "from tensorflow.keras.layers import LSTM, Activation, Dense, Dropout, Input, Embedding\n",
        "from tensorflow.keras.models import Model\n",
        "from tensorflow.keras.optimizers import RMSprop\n",
        "from tensorflow.keras.preprocessing.text import Tokenizer\n",
        "from tensorflow.keras.preprocessing import sequence\n",
        "%matplotlib inline\n",
        "import warnings\n",
        "warnings.filterwarnings(\"ignore\")"
      ],
      "execution_count": null,
      "outputs": []
    },
    {
      "cell_type": "markdown",
      "metadata": {
        "id": "rQPEPcHdevxK"
      },
      "source": [
        "**The libraries**\n",
        "\n",
        "* The ‘Pandas’ library is a python library for data frame and time series manipulation. We used this library to analyze and pre-process the dataset (analyzing and filtering, displaying and manipulating the data frames).\n",
        "* The ‘NumPy’ python library was used for matrices manipulations, transformations and array computations. Operations on the string matrices was made possible using ‘NumPy’.\n",
        "* Seaborn was used to create visualizations. Seaborn isb based on matplotlib. Seaborn aided in regards to data exploration and comprehension.\n",
        "\n",
        "* pyplot was used as a plotting library for the 2D graphics.\n",
        "* The sklearn library was used for classification, feature extraction, classification report and confusion matrix computation, train test split using 'model_selection'\n",
        "* The Natural Language Toolkit (NLTK) was used for text processing - tokenization, parsing, stemming, PorterStemmer, stopwords.\n",
        "* 'plot_confusion_matrix' was used to plot the confusion matrix\n",
        "* Matplotlib was used for rcParams, builtin colormaps, colormap handling utilities.\n",
        "* Counter from Collections was used for counting hashable objects.\n",
        "* RegexpTokenizer from nltk.tokenize was used to splits string into substrings using a regular expression.\n",
        "* The regular expression (re) library was used to check particular string matches a the text dataset.\n",
        "* The string library was used for a number of functions in regards to processing word strings.\n",
        "* tensorflow.keras.layers was used to train our sentiment analysis model. It was used to structure the neural network architecture, sequence, tokenization, layers structire set up, RMSprop optimizer, LSTM, Activation, Dense and layer dropout, as well as word embeddings processing.\n",
        "* The warnings library were used in this notebbok as a way of to warn exceptions or any situations that aren't necessarily exceptions in throughout the development testing process of our sentiment analysis model."
      ]
    },
    {
      "cell_type": "markdown",
      "metadata": {
        "id": "faxJB-Gn0L11"
      },
      "source": [
        "By receiving inputs from the Flatten layer, the dense layer reduces the outputs. All of the preceding layer neurons' inputs are used by the dense layer, which performs calculations and sends outputs.\n",
        "\n",
        "Our activation function assisted in determining which neurons should be passed and which should fire. As a result, the node's activation function describes the output of that node given an input or group of inputs.\n",
        "\n",
        "Words and their respective meanings are presented using embeddings.\n",
        "\n",
        "The LSTM algorithm predicts the next words in a series. Some neurons from previous layers are dropped in the dropout layer to avoid overfitting which would caused the model to providing strong training time accuracy but poor testing time accuracy."
      ]
    },
    {
      "cell_type": "markdown",
      "metadata": {
        "id": "pJZRioSXrfXY"
      },
      "source": [
        "**The process:**\n",
        "\n",
        "This Sentiment Analysis Model is based on TensorFlow. We took the Sentiment dataset and divided it into 70 percent training data and 30 percent testing data. We analyze the model after it has been trained to assess its performance using an accuracy metric as well as a confusion matrix for this classification model.\n",
        "\n",
        "**Key points:**\n",
        "\n",
        "The labels:\n",
        "In this project, the labels were the targets - the sentiment of the tweets were labels.\n",
        "The inputs: In this project, the inputs are tweets and sentences, which we fed into the machine learning.\n",
        "When we were training the models, we used training data. We feed train data into our machine learning model so that it can learn from it.\n",
        "Data from the tests\n",
        "After training the model, we used testing data. We used this information to assess the model's performance after training. So, first, we acquire predictions from the trained model without providing labels, and then we compare the genuine labels to the predictions to determine the model's performance."
      ]
    },
    {
      "cell_type": "markdown",
      "metadata": {
        "id": "8PqzYYzcealP"
      },
      "source": [
        "**Loading the dataset** "
      ]
    },
    {
      "cell_type": "code",
      "metadata": {
        "id": "Zb92YPhjdgJ_"
      },
      "source": [
        "data = pd.read_csv('/content/training.1600000.processed.noemoticon.csv', engine='python')\n",
        "\n",
        "# Selecting columns which are relevant to our task\n",
        "data.columns = [\"label\", \"time\", \"date\", \"query\", \"username\", \"text\"]"
      ],
      "execution_count": null,
      "outputs": []
    },
    {
      "cell_type": "markdown",
      "metadata": {
        "id": "9TPxsLeEg82N"
      },
      "source": [
        "**Exploratory Analysis**\n",
        "\n",
        "First five rows"
      ]
    },
    {
      "cell_type": "code",
      "metadata": {
        "colab": {
          "base_uri": "https://localhost:8080/",
          "height": 204
        },
        "id": "7ltNSYnydyGf",
        "outputId": "e6cf9f22-f93c-4efe-9368-78f83f381015"
      },
      "source": [
        "data.head()"
      ],
      "execution_count": null,
      "outputs": [
        {
          "output_type": "execute_result",
          "data": {
            "text/html": [
              "<div>\n",
              "<style scoped>\n",
              "    .dataframe tbody tr th:only-of-type {\n",
              "        vertical-align: middle;\n",
              "    }\n",
              "\n",
              "    .dataframe tbody tr th {\n",
              "        vertical-align: top;\n",
              "    }\n",
              "\n",
              "    .dataframe thead th {\n",
              "        text-align: right;\n",
              "    }\n",
              "</style>\n",
              "<table border=\"1\" class=\"dataframe\">\n",
              "  <thead>\n",
              "    <tr style=\"text-align: right;\">\n",
              "      <th></th>\n",
              "      <th>label</th>\n",
              "      <th>time</th>\n",
              "      <th>date</th>\n",
              "      <th>query</th>\n",
              "      <th>username</th>\n",
              "      <th>text</th>\n",
              "    </tr>\n",
              "  </thead>\n",
              "  <tbody>\n",
              "    <tr>\n",
              "      <th>0</th>\n",
              "      <td>0</td>\n",
              "      <td>1467810672</td>\n",
              "      <td>Mon Apr 06 22:19:49 PDT 2009</td>\n",
              "      <td>NO_QUERY</td>\n",
              "      <td>scotthamilton</td>\n",
              "      <td>is upset that he can't update his Facebook by ...</td>\n",
              "    </tr>\n",
              "    <tr>\n",
              "      <th>1</th>\n",
              "      <td>0</td>\n",
              "      <td>1467810917</td>\n",
              "      <td>Mon Apr 06 22:19:53 PDT 2009</td>\n",
              "      <td>NO_QUERY</td>\n",
              "      <td>mattycus</td>\n",
              "      <td>@Kenichan I dived many times for the ball. Man...</td>\n",
              "    </tr>\n",
              "    <tr>\n",
              "      <th>2</th>\n",
              "      <td>0</td>\n",
              "      <td>1467811184</td>\n",
              "      <td>Mon Apr 06 22:19:57 PDT 2009</td>\n",
              "      <td>NO_QUERY</td>\n",
              "      <td>ElleCTF</td>\n",
              "      <td>my whole body feels itchy and like its on fire</td>\n",
              "    </tr>\n",
              "    <tr>\n",
              "      <th>3</th>\n",
              "      <td>0</td>\n",
              "      <td>1467811193</td>\n",
              "      <td>Mon Apr 06 22:19:57 PDT 2009</td>\n",
              "      <td>NO_QUERY</td>\n",
              "      <td>Karoli</td>\n",
              "      <td>@nationwideclass no, it's not behaving at all....</td>\n",
              "    </tr>\n",
              "    <tr>\n",
              "      <th>4</th>\n",
              "      <td>0</td>\n",
              "      <td>1467811372</td>\n",
              "      <td>Mon Apr 06 22:20:00 PDT 2009</td>\n",
              "      <td>NO_QUERY</td>\n",
              "      <td>joy_wolf</td>\n",
              "      <td>@Kwesidei not the whole crew</td>\n",
              "    </tr>\n",
              "  </tbody>\n",
              "</table>\n",
              "</div>"
            ],
            "text/plain": [
              "   label  ...                                               text\n",
              "0      0  ...  is upset that he can't update his Facebook by ...\n",
              "1      0  ...  @Kenichan I dived many times for the ball. Man...\n",
              "2      0  ...    my whole body feels itchy and like its on fire \n",
              "3      0  ...  @nationwideclass no, it's not behaving at all....\n",
              "4      0  ...                      @Kwesidei not the whole crew \n",
              "\n",
              "[5 rows x 6 columns]"
            ]
          },
          "metadata": {},
          "execution_count": 4
        }
      ]
    },
    {
      "cell_type": "markdown",
      "metadata": {
        "id": "cUHkz-Rm9ntr"
      },
      "source": [
        "Last five rows"
      ]
    },
    {
      "cell_type": "code",
      "metadata": {
        "id": "lrJqXfPZ9t-B"
      },
      "source": [
        "data.tail()"
      ],
      "execution_count": null,
      "outputs": []
    },
    {
      "cell_type": "markdown",
      "metadata": {
        "id": "nxTLKikY9F8b"
      },
      "source": [
        "Shape of data"
      ]
    },
    {
      "cell_type": "code",
      "metadata": {
        "colab": {
          "base_uri": "https://localhost:8080/"
        },
        "id": "HM1UuMWliCOR",
        "outputId": "bdff63ac-f2d2-4f08-884b-9eb61f136383"
      },
      "source": [
        "data.shape"
      ],
      "execution_count": null,
      "outputs": [
        {
          "output_type": "execute_result",
          "data": {
            "text/plain": [
              "(1599999, 6)"
            ]
          },
          "metadata": {},
          "execution_count": 5
        }
      ]
    },
    {
      "cell_type": "markdown",
      "metadata": {
        "id": "DJTjuLU59NmB"
      },
      "source": [
        "Data information"
      ]
    },
    {
      "cell_type": "code",
      "metadata": {
        "colab": {
          "base_uri": "https://localhost:8080/"
        },
        "id": "Sh-UbikwiGBL",
        "outputId": "836c665f-6a30-4979-b65f-6273b230feb0"
      },
      "source": [
        "data.info()"
      ],
      "execution_count": null,
      "outputs": [
        {
          "output_type": "stream",
          "text": [
            "<class 'pandas.core.frame.DataFrame'>\n",
            "RangeIndex: 1599999 entries, 0 to 1599998\n",
            "Data columns (total 6 columns):\n",
            " #   Column    Non-Null Count    Dtype \n",
            "---  ------    --------------    ----- \n",
            " 0   label     1599999 non-null  int64 \n",
            " 1   time      1599999 non-null  int64 \n",
            " 2   date      1599999 non-null  object\n",
            " 3   query     1599999 non-null  object\n",
            " 4   username  1599999 non-null  object\n",
            " 5   text      1599999 non-null  object\n",
            "dtypes: int64(2), object(4)\n",
            "memory usage: 73.2+ MB\n"
          ],
          "name": "stdout"
        }
      ]
    },
    {
      "cell_type": "markdown",
      "metadata": {
        "id": "dOlbVTdz9SkT"
      },
      "source": [
        "Chacking data for null values"
      ]
    },
    {
      "cell_type": "code",
      "metadata": {
        "colab": {
          "base_uri": "https://localhost:8080/"
        },
        "id": "ettzgG8MiUzt",
        "outputId": "e151e28d-b935-4c6f-839f-6f91f66889f9"
      },
      "source": [
        "np.sum(data.isnull().any(axis=1))"
      ],
      "execution_count": null,
      "outputs": [
        {
          "output_type": "execute_result",
          "data": {
            "text/plain": [
              "0"
            ]
          },
          "metadata": {},
          "execution_count": 7
        }
      ]
    },
    {
      "cell_type": "markdown",
      "metadata": {
        "id": "Cx0Kxq4Lil5u"
      },
      "source": [
        "# Preparing the Dataset"
      ]
    },
    {
      "cell_type": "markdown",
      "metadata": {
        "id": "a4m7UrEHy9FH"
      },
      "source": [
        "Selecting the text and label column"
      ]
    },
    {
      "cell_type": "code",
      "metadata": {
        "id": "XfL-Pd4EjI3b"
      },
      "source": [
        "data=data[['text','label']]"
      ],
      "execution_count": null,
      "outputs": []
    },
    {
      "cell_type": "markdown",
      "metadata": {
        "id": "20jOTEevzN9H"
      },
      "source": [
        "Assigning 1 to positive sentiment 4"
      ]
    },
    {
      "cell_type": "code",
      "metadata": {
        "id": "BlX95YNBzH2E"
      },
      "source": [
        "data['label'][data['label']==4]=1"
      ],
      "execution_count": null,
      "outputs": []
    },
    {
      "cell_type": "markdown",
      "metadata": {
        "id": "kaWSqqBPzbSn"
      },
      "source": [
        "Separating positive and negative tweets"
      ]
    },
    {
      "cell_type": "code",
      "metadata": {
        "id": "vWn1Z9RczOzK"
      },
      "source": [
        "data_pos = data[data['label'] == 1]\n",
        "data_neg = data[data['label'] == 0]"
      ],
      "execution_count": null,
      "outputs": []
    },
    {
      "cell_type": "markdown",
      "metadata": {
        "id": "pJ_2IBQAzsCm"
      },
      "source": [
        "Taking part of our data (40,000) so we can run on colab easily"
      ]
    },
    {
      "cell_type": "code",
      "metadata": {
        "id": "HQ3CJDWhz34R"
      },
      "source": [
        "data_pos = data_pos.iloc[:int(20000)]\n",
        "data_neg = data_neg.iloc[:int(20000)]"
      ],
      "execution_count": null,
      "outputs": []
    },
    {
      "cell_type": "markdown",
      "metadata": {
        "id": "-hL8JH1l0bj_"
      },
      "source": [
        "Combining positive and negative tweets"
      ]
    },
    {
      "cell_type": "code",
      "metadata": {
        "id": "_pHIaxKe0Tgz"
      },
      "source": [
        "data = pd.concat([data_pos, data_neg])"
      ],
      "execution_count": null,
      "outputs": []
    },
    {
      "cell_type": "code",
      "metadata": {
        "colab": {
          "base_uri": "https://localhost:8080/"
        },
        "id": "9CD9gVCM1VQH",
        "outputId": "dc4d801a-6719-4a0b-9f91-89ce82a3e1b1"
      },
      "source": [
        "data.shape"
      ],
      "execution_count": null,
      "outputs": [
        {
          "output_type": "execute_result",
          "data": {
            "text/plain": [
              "(40000, 2)"
            ]
          },
          "metadata": {},
          "execution_count": 13
        }
      ]
    },
    {
      "cell_type": "markdown",
      "metadata": {
        "id": "iZnSJUxO-WIe"
      },
      "source": [
        "**Data cleaning**"
      ]
    },
    {
      "cell_type": "markdown",
      "metadata": {
        "id": "CaQxcY1Z0gW-"
      },
      "source": [
        "Making statement text lower case"
      ]
    },
    {
      "cell_type": "code",
      "metadata": {
        "id": "optnweib0jfw"
      },
      "source": [
        "data['text'] = data['text'].str.lower()"
      ],
      "execution_count": null,
      "outputs": []
    },
    {
      "cell_type": "markdown",
      "metadata": {
        "id": "664SiQJM0wJU"
      },
      "source": [
        "Removing stop words"
      ]
    },
    {
      "cell_type": "code",
      "metadata": {
        "colab": {
          "base_uri": "https://localhost:8080/",
          "height": 188
        },
        "id": "NhlqT5xa2j5P",
        "outputId": "b7c224a3-db99-40a0-abf6-fc47b9c6a7b8"
      },
      "source": [
        "import nltk\n",
        "nltk.download('stopwords')\n",
        "\", \".join(stopwords.words('english'))"
      ],
      "execution_count": null,
      "outputs": [
        {
          "output_type": "stream",
          "text": [
            "[nltk_data] Downloading package stopwords to /root/nltk_data...\n",
            "[nltk_data]   Package stopwords is already up-to-date!\n"
          ],
          "name": "stdout"
        },
        {
          "output_type": "execute_result",
          "data": {
            "application/vnd.google.colaboratory.intrinsic+json": {
              "type": "string"
            },
            "text/plain": [
              "\"i, me, my, myself, we, our, ours, ourselves, you, you're, you've, you'll, you'd, your, yours, yourself, yourselves, he, him, his, himself, she, she's, her, hers, herself, it, it's, its, itself, they, them, their, theirs, themselves, what, which, who, whom, this, that, that'll, these, those, am, is, are, was, were, be, been, being, have, has, had, having, do, does, did, doing, a, an, the, and, but, if, or, because, as, until, while, of, at, by, for, with, about, against, between, into, through, during, before, after, above, below, to, from, up, down, in, out, on, off, over, under, again, further, then, once, here, there, when, where, why, how, all, any, both, each, few, more, most, other, some, such, no, nor, not, only, own, same, so, than, too, very, s, t, can, will, just, don, don't, should, should've, now, d, ll, m, o, re, ve, y, ain, aren, aren't, couldn, couldn't, didn, didn't, doesn, doesn't, hadn, hadn't, hasn, hasn't, haven, haven't, isn, isn't, ma, mightn, mightn't, mustn, mustn't, needn, needn't, shan, shan't, shouldn, shouldn't, wasn, wasn't, weren, weren't, won, won't, wouldn, wouldn't\""
            ]
          },
          "metadata": {},
          "execution_count": 15
        }
      ]
    },
    {
      "cell_type": "code",
      "metadata": {
        "id": "j3KEMSpx0nZj"
      },
      "source": [
        "stopword_list = stopwords.words('english')\n"
      ],
      "execution_count": null,
      "outputs": []
    },
    {
      "cell_type": "code",
      "metadata": {
        "colab": {
          "base_uri": "https://localhost:8080/"
        },
        "id": "RoLjGCQU3oI4",
        "outputId": "082dd1bb-35bc-4959-b982-853a15d4a949"
      },
      "source": [
        "STOPWORDS = set(stopwords.words('english'))\n",
        "def cleaning_stopwords(text):\n",
        "  return \" \".join([word for word in str(text).split() if word not in STOPWORDS])\n",
        "\n",
        "data['text'] = data['text'].apply(lambda text: cleaning_stopwords(text))\n",
        "data['text'].head()"
      ],
      "execution_count": null,
      "outputs": [
        {
          "output_type": "execute_result",
          "data": {
            "text/plain": [
              "799999                love @health4uandpets u guys r best!!\n",
              "800000    im meeting one besties tonight! cant wait!! - ...\n",
              "800001    @darealsunisakim thanks twitter add, sunisa! g...\n",
              "800002    sick really cheap hurts much eat real food plu...\n",
              "800003                      @lovesbrooklyn2 effect everyone\n",
              "Name: text, dtype: object"
            ]
          },
          "metadata": {},
          "execution_count": 17
        }
      ]
    },
    {
      "cell_type": "markdown",
      "metadata": {
        "id": "_PONAzyg5Uyl"
      },
      "source": [
        "Removing punctuations"
      ]
    },
    {
      "cell_type": "code",
      "metadata": {
        "id": "olCM29My5S2X"
      },
      "source": [
        "english_punctuations = string.punctuation\n",
        "punctuations_list = english_punctuations\n",
        "def cleaning_punctuations(text):\n",
        "  translator = str.maketrans('','',punctuations_list)\n",
        "  return text.translate(translator)"
      ],
      "execution_count": null,
      "outputs": []
    },
    {
      "cell_type": "code",
      "metadata": {
        "colab": {
          "base_uri": "https://localhost:8080/"
        },
        "id": "8uwx74Q56FLK",
        "outputId": "2ec9b388-da07-4e4b-93d3-b32d8db40c42"
      },
      "source": [
        "data['text'] = data['text'].apply(lambda x: cleaning_punctuations(x))\n",
        "data['text'].tail()"
      ],
      "execution_count": null,
      "outputs": [
        {
          "output_type": "execute_result",
          "data": {
            "text/plain": [
              "19995                                     one day holidays\n",
              "19996                     feeling right  hate damn humprey\n",
              "19997    geezi hv read whole book personality types emb...\n",
              "19998     threw sign donnie bent get thingee made sad face\n",
              "19999    heather2711 good thing find none ones like com...\n",
              "Name: text, dtype: object"
            ]
          },
          "metadata": {},
          "execution_count": 19
        }
      ]
    },
    {
      "cell_type": "markdown",
      "metadata": {
        "id": "dZRO3JFJ6kVk"
      },
      "source": [
        "Removing repreating characters"
      ]
    },
    {
      "cell_type": "code",
      "metadata": {
        "id": "nQMrV2TV6qr1"
      },
      "source": [
        "def cleaning_repeating_chars(text):\n",
        "  return re.sub(r'(.)\\1+', r'\\1', text)\n"
      ],
      "execution_count": null,
      "outputs": []
    },
    {
      "cell_type": "code",
      "metadata": {
        "colab": {
          "base_uri": "https://localhost:8080/"
        },
        "id": "mo3_H8rj7LNm",
        "outputId": "b1e42aea-87b4-40ff-c805-1894307a0040"
      },
      "source": [
        "data['text'] = data['text'].apply(lambda x: cleaning_repeating_chars(x))\n",
        "data['text'].tail()"
      ],
      "execution_count": null,
      "outputs": [
        {
          "output_type": "execute_result",
          "data": {
            "text/plain": [
              "19995                                     one day holidays\n",
              "19996                       feling right hate damn humprey\n",
              "19997    gezi hv read whole bok personality types embar...\n",
              "19998       threw sign donie bent get thinge made sad face\n",
              "19999    heather271 god thing find none ones like come ...\n",
              "Name: text, dtype: object"
            ]
          },
          "metadata": {},
          "execution_count": 21
        }
      ]
    },
    {
      "cell_type": "markdown",
      "metadata": {
        "id": "bBHqQHqG7i0o"
      },
      "source": [
        "Removing emails"
      ]
    },
    {
      "cell_type": "code",
      "metadata": {
        "id": "OJXzrdh68AFY"
      },
      "source": [
        "def cleaning_email(data):\n",
        "  return re.sub('@[^\\s]+', ' ', data)"
      ],
      "execution_count": null,
      "outputs": []
    },
    {
      "cell_type": "code",
      "metadata": {
        "colab": {
          "base_uri": "https://localhost:8080/"
        },
        "id": "ZYTvWmja8Req",
        "outputId": "779a5e02-71c6-4be9-e79e-397913dba2e0"
      },
      "source": [
        "data['text'] = data['text'].apply(lambda x: cleaning_email(x))\n",
        "data['text'].tail()"
      ],
      "execution_count": null,
      "outputs": [
        {
          "output_type": "execute_result",
          "data": {
            "text/plain": [
              "19995                                     one day holidays\n",
              "19996                       feling right hate damn humprey\n",
              "19997    gezi hv read whole bok personality types embar...\n",
              "19998       threw sign donie bent get thinge made sad face\n",
              "19999    heather271 god thing find none ones like come ...\n",
              "Name: text, dtype: object"
            ]
          },
          "metadata": {},
          "execution_count": 23
        }
      ]
    },
    {
      "cell_type": "markdown",
      "metadata": {
        "id": "eg80_cX78lm1"
      },
      "source": [
        "Removing URLs"
      ]
    },
    {
      "cell_type": "code",
      "metadata": {
        "id": "uBQCT6Ja8rXm"
      },
      "source": [
        "def cleaning_URLs(data):\n",
        "  return re.sub('((www\\.[^\\s]+)|(https?://[^\\s]+))',' ',data)"
      ],
      "execution_count": null,
      "outputs": []
    },
    {
      "cell_type": "code",
      "metadata": {
        "colab": {
          "base_uri": "https://localhost:8080/"
        },
        "id": "2CouGnZO9HTb",
        "outputId": "410cac1b-0f66-4895-8024-94255a022c6d"
      },
      "source": [
        "data['text'] = data['text'].apply(lambda x: cleaning_URLs(x))\n",
        "data['text'].tail()"
      ],
      "execution_count": null,
      "outputs": [
        {
          "output_type": "execute_result",
          "data": {
            "text/plain": [
              "19995                                     one day holidays\n",
              "19996                       feling right hate damn humprey\n",
              "19997    gezi hv read whole bok personality types embar...\n",
              "19998       threw sign donie bent get thinge made sad face\n",
              "19999    heather271 god thing find none ones like come ...\n",
              "Name: text, dtype: object"
            ]
          },
          "metadata": {},
          "execution_count": 25
        }
      ]
    },
    {
      "cell_type": "markdown",
      "metadata": {
        "id": "meTlTmYdBF1z"
      },
      "source": [
        "Cleaning and removing numeric numbers"
      ]
    },
    {
      "cell_type": "code",
      "metadata": {
        "id": "IQh_2GQBBJfQ"
      },
      "source": [
        "def cleaning_numbers(data):\n",
        "  return re.sub('[0-9]+', '', data)"
      ],
      "execution_count": null,
      "outputs": []
    },
    {
      "cell_type": "code",
      "metadata": {
        "colab": {
          "base_uri": "https://localhost:8080/"
        },
        "id": "aWFDzEl2BXSH",
        "outputId": "7f7f3bfa-9b37-43b7-d6fa-5e7ee7e5bc73"
      },
      "source": [
        "data['text'] = data['text'].apply(lambda x: cleaning_numbers(x))\n",
        "data['text'].tail()"
      ],
      "execution_count": null,
      "outputs": [
        {
          "output_type": "execute_result",
          "data": {
            "text/plain": [
              "19995                                     one day holidays\n",
              "19996                       feling right hate damn humprey\n",
              "19997    gezi hv read whole bok personality types embar...\n",
              "19998       threw sign donie bent get thinge made sad face\n",
              "19999    heather god thing find none ones like come siz...\n",
              "Name: text, dtype: object"
            ]
          },
          "metadata": {},
          "execution_count": 27
        }
      ]
    },
    {
      "cell_type": "markdown",
      "metadata": {
        "id": "d0KA0z96Bn7P"
      },
      "source": [
        "**Getting tokenization of tweet text** to separate the tweet into words."
      ]
    },
    {
      "cell_type": "code",
      "metadata": {
        "colab": {
          "base_uri": "https://localhost:8080/",
          "height": 204
        },
        "id": "ByFZvtUsBst5",
        "outputId": "f353e987-b710-4729-dd5b-bf52e2ec154e"
      },
      "source": [
        "\n",
        "tokenizer = RegexpTokenizer(r'\\w+')\n",
        "data['text'] = data['text'].apply(tokenizer.tokenize)\n",
        "data.head()"
      ],
      "execution_count": null,
      "outputs": [
        {
          "output_type": "execute_result",
          "data": {
            "text/html": [
              "<div>\n",
              "<style scoped>\n",
              "    .dataframe tbody tr th:only-of-type {\n",
              "        vertical-align: middle;\n",
              "    }\n",
              "\n",
              "    .dataframe tbody tr th {\n",
              "        vertical-align: top;\n",
              "    }\n",
              "\n",
              "    .dataframe thead th {\n",
              "        text-align: right;\n",
              "    }\n",
              "</style>\n",
              "<table border=\"1\" class=\"dataframe\">\n",
              "  <thead>\n",
              "    <tr style=\"text-align: right;\">\n",
              "      <th></th>\n",
              "      <th>text</th>\n",
              "      <th>label</th>\n",
              "    </tr>\n",
              "  </thead>\n",
              "  <tbody>\n",
              "    <tr>\n",
              "      <th>799999</th>\n",
              "      <td>[love, healthuandpets, u, guys, r, best]</td>\n",
              "      <td>1</td>\n",
              "    </tr>\n",
              "    <tr>\n",
              "      <th>800000</th>\n",
              "      <td>[im, meting, one, besties, tonight, cant, wait...</td>\n",
              "      <td>1</td>\n",
              "    </tr>\n",
              "    <tr>\n",
              "      <th>800001</th>\n",
              "      <td>[darealsunisakim, thanks, twiter, ad, sunisa, ...</td>\n",
              "      <td>1</td>\n",
              "    </tr>\n",
              "    <tr>\n",
              "      <th>800002</th>\n",
              "      <td>[sick, realy, cheap, hurts, much, eat, real, f...</td>\n",
              "      <td>1</td>\n",
              "    </tr>\n",
              "    <tr>\n",
              "      <th>800003</th>\n",
              "      <td>[lovesbroklyn, efect, everyone]</td>\n",
              "      <td>1</td>\n",
              "    </tr>\n",
              "  </tbody>\n",
              "</table>\n",
              "</div>"
            ],
            "text/plain": [
              "                                                     text  label\n",
              "799999           [love, healthuandpets, u, guys, r, best]      1\n",
              "800000  [im, meting, one, besties, tonight, cant, wait...      1\n",
              "800001  [darealsunisakim, thanks, twiter, ad, sunisa, ...      1\n",
              "800002  [sick, realy, cheap, hurts, much, eat, real, f...      1\n",
              "800003                    [lovesbroklyn, efect, everyone]      1"
            ]
          },
          "metadata": {},
          "execution_count": 28
        }
      ]
    },
    {
      "cell_type": "markdown",
      "metadata": {
        "id": "Llow7_BWoOyJ"
      },
      "source": [
        "Visualization of the most appearing words"
      ]
    },
    {
      "cell_type": "code",
      "metadata": {
        "id": "hw9knjIyonDR"
      },
      "source": [
        "from wordcloud import WordCloud\n"
      ],
      "execution_count": null,
      "outputs": []
    },
    {
      "cell_type": "code",
      "metadata": {
        "colab": {
          "base_uri": "https://localhost:8080/",
          "height": 198
        },
        "id": "B29n-9eQoQY1",
        "outputId": "e372d96b-48ea-4ab0-c600-cb3871e9c5e8"
      },
      "source": [
        "# Visualization  ---- Plot the word Cloud, to see which words appear the most\n",
        "allwords = ' '.join([str(twts) for twts in data['text']])\n",
        "wordCloud = WordCloud(width = 1000, height = 500, random_state = 40, max_font_size = 300).generate(allwords)\n",
        "plt.imshow(wordCloud, interpolation = \"bilinear\")\n",
        "plt.axis('off')\n",
        "plt.show()"
      ],
      "execution_count": null,
      "outputs": [
        {
          "output_type": "display_data",
          "data": {
            "image/png": "[encoded data removed]",
            "text/plain": [
              "<Figure size 432x288 with 1 Axes>"
            ]
          },
          "metadata": {
            "needs_background": "light"
          }
        }
      ]
    },
    {
      "cell_type": "markdown",
      "metadata": {
        "id": "RhU_qo-iCEY5"
      },
      "source": [
        "**Applying stemming** to produce a word's stem: reducing it to it base/root word."
      ]
    },
    {
      "cell_type": "code",
      "metadata": {
        "id": "SFomjXRlCGVa"
      },
      "source": [
        "st = nltk.PorterStemmer()\n",
        "def stemming_on_text(data):\n",
        "  text = [st.stem(word) for word in data]\n",
        "  return data"
      ],
      "execution_count": null,
      "outputs": []
    },
    {
      "cell_type": "code",
      "metadata": {
        "colab": {
          "base_uri": "https://localhost:8080/"
        },
        "id": "ZkoOSowMCatx",
        "outputId": "72fd7eaa-e25e-4954-b154-f4b5344fe8bb"
      },
      "source": [
        "data['text'] = data['text'].apply(lambda x: stemming_on_text(x))\n",
        "data['text'].head()"
      ],
      "execution_count": null,
      "outputs": [
        {
          "output_type": "execute_result",
          "data": {
            "text/plain": [
              "799999             [love, healthuandpets, u, guys, r, best]\n",
              "800000    [im, meting, one, besties, tonight, cant, wait...\n",
              "800001    [darealsunisakim, thanks, twiter, ad, sunisa, ...\n",
              "800002    [sick, realy, cheap, hurts, much, eat, real, f...\n",
              "800003                      [lovesbroklyn, efect, everyone]\n",
              "Name: text, dtype: object"
            ]
          },
          "metadata": {},
          "execution_count": 30
        }
      ]
    },
    {
      "cell_type": "markdown",
      "metadata": {
        "id": "8mH4Q9wNI1pK"
      },
      "source": [
        "# Training the model"
      ]
    },
    {
      "cell_type": "markdown",
      "metadata": {
        "id": "hEtFted5I7Ie"
      },
      "source": [
        "**Separating the input features and labels**"
      ]
    },
    {
      "cell_type": "code",
      "metadata": {
        "id": "ptsA5cutJvcW"
      },
      "source": [
        "X=data.text\n",
        "y=data.label"
      ],
      "execution_count": null,
      "outputs": []
    },
    {
      "cell_type": "code",
      "metadata": {
        "id": "ENN9TMstAgtA"
      },
      "source": [
        ""
      ],
      "execution_count": null,
      "outputs": []
    },
    {
      "cell_type": "markdown",
      "metadata": {
        "id": "2tPzGt8mAPEs"
      },
      "source": [
        "**Preparing input features for training**\n",
        "* Converting words into array form.\n",
        "* Maximum 500 features/words selected for training. These 500 words will be selected on the importance that will distinguish between positive tweets and negative tweets."
      ]
    },
    {
      "cell_type": "code",
      "metadata": {
        "id": "boIcrpfaJYJT"
      },
      "source": [
        "max_len = 500\n",
        "tok = Tokenizer(num_words=2000)\n",
        "tok.fit_on_texts(X)\n",
        "sequences = tok.texts_to_sequences(X)\n",
        "sequences_matrix = sequence.pad_sequences(sequences,maxlen=max_len)"
      ],
      "execution_count": null,
      "outputs": []
    },
    {
      "cell_type": "markdown",
      "metadata": {
        "id": "13pAw5k_J4Jr"
      },
      "source": [
        "Separating training and testing data (70% for training, 30% for testing)"
      ]
    },
    {
      "cell_type": "code",
      "metadata": {
        "id": "SLa1a4RKJ_z-"
      },
      "source": [
        "X_train, X_test, Y_train, Y_test = train_test_split(sequences_matrix, y, test_size=0.3, random_state=2)"
      ],
      "execution_count": null,
      "outputs": []
    },
    {
      "cell_type": "markdown",
      "metadata": {
        "id": "s-2Q5a0eKEC-"
      },
      "source": [
        "**Building the deep model using Tensorflow**"
      ]
    },
    {
      "cell_type": "code",
      "metadata": {
        "id": "wcTCvnEbKLpj"
      },
      "source": [
        "def tensorflow_based_model(): #Defined tensorflow_based_model function for training tenforflow based model\n",
        "    #The input to the model is 500 words.\n",
        "    inputs = Input(name='inputs',shape=[max_len])\n",
        "    #Embedding\n",
        "    layer = Embedding(2000,50,input_length=max_len)(inputs)\n",
        "    #long short term memory\n",
        "    layer = LSTM(64)(layer)\n",
        "    #Dense Layer\n",
        "    layer = Dense(256,name='FC1')(layer)\n",
        "    #Activation function\n",
        "    layer = Activation('relu')(layer)\n",
        "    #Dropout layer\n",
        "    layer = Dropout(0.5)(layer)\n",
        "    #Dense layer again but this time its giving only one output as because we need to classify the tweet as positive or negative\n",
        "    layer = Dense(1,name='out_layer')(layer)\n",
        "    #Activation function but this time activation function is sigmoid for only one output.\n",
        "    layer = Activation('sigmoid')(layer)\n",
        "    #here we are getting the final output value in the model for classification\n",
        "    model = Model(inputs=inputs,outputs=layer) \n",
        "    return model #function returning the value when we call it"
      ],
      "execution_count": null,
      "outputs": []
    },
    {
      "cell_type": "markdown",
      "metadata": {
        "id": "T1Xg8bDxL2sZ"
      },
      "source": [
        "**Model Compilation**"
      ]
    },
    {
      "cell_type": "code",
      "metadata": {
        "id": "PAvZ5J-GL7ZU"
      },
      "source": [
        "model = tensorflow_based_model()\n",
        "model.compile(loss='binary_crossentropy',optimizer=RMSprop(),metrics=['accuracy'])"
      ],
      "execution_count": null,
      "outputs": []
    },
    {
      "cell_type": "markdown",
      "metadata": {
        "id": "lrbFKidlMQXt"
      },
      "source": [
        "**Training and Validating with parameter tuning**\n",
        "\n",
        "Feeding the training data and getting 10% data for validation from training data.\n"
      ]
    },
    {
      "cell_type": "markdown",
      "metadata": {
        "id": "P4ks0LDZxkrv"
      },
      "source": [
        "We could choose batch size and epochs, as well as specify some values and train the model. If the model did not produce high accuracy, we could tweak it and try again. As part of the parameter tuning process, we may repeat this approach if we didn't receive good results."
      ]
    },
    {
      "cell_type": "code",
      "metadata": {
        "colab": {
          "base_uri": "https://localhost:8080/"
        },
        "id": "TDAUmjgaMXdd",
        "outputId": "ea812e44-aa3b-41e1-f43e-1d2765fab452"
      },
      "source": [
        "history=model.fit(X_train,Y_train,batch_size=80,epochs=1, validation_split=0.1)\n",
        "print('Training finished !!')"
      ],
      "execution_count": null,
      "outputs": [
        {
          "output_type": "stream",
          "text": [
            "315/315 [==============================] - 128s 400ms/step - loss: 0.5747 - accuracy: 0.6952 - val_loss: 0.5235 - val_accuracy: 0.7325\n",
            "Training finished !!\n"
          ],
          "name": "stdout"
        }
      ]
    },
    {
      "cell_type": "markdown",
      "metadata": {
        "id": "Hv05Vm-kOA02"
      },
      "source": [
        "**Test the trained model on test data**"
      ]
    },
    {
      "cell_type": "code",
      "metadata": {
        "colab": {
          "base_uri": "https://localhost:8080/"
        },
        "id": "ziDpcD2WOF2F",
        "outputId": "6d0f6e75-e246-45f9-ef26-c2272cb33300"
      },
      "source": [
        "accr1 = model.evaluate(X_test,Y_test)"
      ],
      "execution_count": null,
      "outputs": [
        {
          "output_type": "stream",
          "text": [
            "375/375 [==============================] - 25s 66ms/step - loss: 0.5244 - accuracy: 0.7317\n"
          ],
          "name": "stdout"
        }
      ]
    },
    {
      "cell_type": "code",
      "metadata": {
        "colab": {
          "base_uri": "https://localhost:8080/"
        },
        "id": "8p0bKJYXOOU_",
        "outputId": "7a4eda5a-0e43-4b6a-ca60-be1e54785f45"
      },
      "source": [
        "#Accuracy\n",
        "print('Test set \\n Accuracy: {:0.2f}'.format(accr1[1]))"
      ],
      "execution_count": null,
      "outputs": [
        {
          "output_type": "stream",
          "text": [
            "Test set \n",
            " Accuracy: 0.73\n"
          ],
          "name": "stdout"
        }
      ]
    },
    {
      "cell_type": "markdown",
      "metadata": {
        "id": "Adp2K9Miwh8A"
      },
      "source": [
        "**About accuracy:**\n",
        "\n",
        "The number of accurately classified tweets from all positive and negative tweets is known as accuracy. The accuracy score will be 70% if the trained model classifies 70 tweets correctly and 30 tweets incorrectly out of a total of 100 tweets.\n",
        "Total number of right predictions divided by total number of predictions equals accuracy."
      ]
    },
    {
      "cell_type": "markdown",
      "metadata": {
        "id": "ouJDl7BVy1rK"
      },
      "source": [
        "We used “binary crossentropy” because we only used two classes; if we had used more than two classes, we would have used “categorical crossentropy.”\n",
        "The optimizer is a function that was used to minimise losses by changing the features of the neural network, such as learning rate (how the model learns with features). As a result, the optimizer determined the learning rate of the neural networks in order to minimise the losses.\n",
        "Because we were going to calculate the percentage of right predictions on the validation set, we chose accuracy as our metric."
      ]
    },
    {
      "cell_type": "markdown",
      "metadata": {
        "id": "8Y-EFifAOjS5"
      },
      "source": [
        "**Getting prediction on the trained model**"
      ]
    },
    {
      "cell_type": "code",
      "metadata": {
        "id": "nUkkhlhWOnzv"
      },
      "source": [
        "y_pred = model.predict(X_test)\n",
        "y_pred = (y_pred > 0.5)"
      ],
      "execution_count": null,
      "outputs": []
    },
    {
      "cell_type": "markdown",
      "metadata": {
        "id": "H-DEqejkO1zX"
      },
      "source": [
        "Confusion matrix"
      ]
    },
    {
      "cell_type": "code",
      "metadata": {
        "colab": {
          "base_uri": "https://localhost:8080/",
          "height": 659
        },
        "id": "cdqXz-w3O5sX",
        "outputId": "a9727065-5971-43a8-c290-144716de20e9"
      },
      "source": [
        "CR = confusion_matrix(Y_test, y_pred)\n",
        "print(CR)\n",
        "\n",
        "print('\\n')\n",
        "\n",
        "fig, ax = plot_confusion_matrix(conf_mat=CR, \n",
        "                                figsize=(10,10),\n",
        "                                show_absolute=True,\n",
        "                                show_normed=True,\n",
        "                                colorbar=True)\n",
        "\n",
        "plt.show\n",
        "\n"
      ],
      "execution_count": null,
      "outputs": [
        {
          "output_type": "stream",
          "text": [
            "[[4468 1541]\n",
            " [1679 4312]]\n",
            "\n",
            "\n"
          ],
          "name": "stdout"
        },
        {
          "output_type": "execute_result",
          "data": {
            "text/plain": [
              "<function matplotlib.pyplot.show>"
            ]
          },
          "metadata": {},
          "execution_count": 40
        },
        {
          "output_type": "display_data",
          "data": {
            "image/png": "[encoded data removed]",
            "text/plain": [
              "<Figure size 720x720 with 2 Axes>"
            ]
          },
          "metadata": {
            "needs_background": "light"
          }
        }
      ]
    },
    {
      "cell_type": "markdown",
      "metadata": {
        "id": "3zflrc8ZRt_K"
      },
      "source": [
        "In the above Confusion matrix, dark blue boxes are the correct predictions with the trained model and sky blue boxes show the wrong predictions.\n",
        "(0 - negative, 1 - positive).\n",
        "\n",
        "**Results**:\n",
        "\n",
        "Negative sentiments were successfully predicted in 4468 tweets. Positive sentiments were predicted in 1541 tweets, however they were actually negative sentiments.\n",
        "Positive sentiments were successfully predicted in 4312 tweets. Negative sentiments were expected in 1679 tweets, however they were actually positive ones."
      ]
    },
    {
      "cell_type": "markdown",
      "metadata": {
        "id": "gUOHq2seQplZ"
      },
      "source": [
        "# Conclusion\n",
        "\n",
        "The Twitter sentiment analysis dataset was used, and the data was prepared in a variety of methods. We worked on the classification problem, which we refer to as binary classification because it has two classes. We cleaned up the text data from tweets by deleting any extraneous information. Furthermore, the model was trained using all settings in TensorFlow. Finally, the model was assessed using various evaluation criteria."
      ]
    }
  ]
}